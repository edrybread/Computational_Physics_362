{
 "cells": [
  {
   "cell_type": "markdown",
   "metadata": {},
   "source": [
    "## Solution Homework 8, Exercise 1"
   ]
  },
  {
   "cell_type": "code",
   "execution_count": 7,
   "metadata": {},
   "outputs": [
    {
     "data": {
      "image/png": "[encoded data removed]",
      "text/plain": [
       "<Figure size 432x288 with 1 Axes>"
      ]
     },
     "metadata": {
      "needs_background": "light"
     },
     "output_type": "display_data"
    }
   ],
   "source": [
    "%matplotlib inline\n",
    "import numpy as np\n",
    "import matplotlib.pyplot as plt\n",
    "\n",
    "# (i)\n",
    "\n",
    "# read in data and plot it on a regular scale\n",
    "dataList = np.genfromtxt('power_law_data.csv', delimiter=',', skip_header = 2)\n",
    "\n",
    "L=dataList[:,0]\n",
    "tau=dataList[:,1]\n",
    "dtau=dataList[:,2]\n",
    "    \n",
    "plt.errorbar(L, tau, yerr=dtau, fmt='.')\n",
    "plt.xlabel(\"L\")\n",
    "plt.ylabel(r\"$\\tau$\")\n",
    "plt.title(\"Regular plot\")\n",
    "plt.show()"
   ]
  },
  {
   "cell_type": "code",
   "execution_count": 9,
   "metadata": {},
   "outputs": [
    {
     "data": {
      "image/png": "[encoded data removed]",
      "text/plain": [
       "<Figure size 432x288 with 1 Axes>"
      ]
     },
     "metadata": {
      "needs_background": "light"
     },
     "output_type": "display_data"
    }
   ],
   "source": [
    "# now plotting on log-log scale\n",
    "# the data looks linear\n",
    "\n",
    "plt.title(\"Log-log plot\")\n",
    "plt.xlabel(\"log(L)\")\n",
    "plt.ylabel(r\"log$(\\tau)$\")\n",
    "plt.errorbar(np.log(L), np.log(tau), yerr=abs(dtau/tau), fmt='.')\n",
    "plt.show()"
   ]
  },
  {
   "cell_type": "code",
   "execution_count": 10,
   "metadata": {},
   "outputs": [
    {
     "name": "stdout",
     "output_type": "stream",
     "text": [
      "chisq_min/dof =  1.126886140878405\n",
      "Q =  0.3434856859848926\n",
      "The fit is acceptable!\n",
      "Best fit:  [-1.96051826  2.1046865 ]\n"
     ]
    },
    {
     "data": {
      "image/png": "[encoded data removed]",
      "text/plain": [
       "<Figure size 432x288 with 1 Axes>"
      ]
     },
     "metadata": {
      "needs_background": "light"
     },
     "output_type": "display_data"
    }
   ],
   "source": [
    "# (ii)\n",
    "# linear fit of log-log data by direct minimization\n",
    "\n",
    "from scipy.optimize import minimize\n",
    "from scipy.special import gammaincc\n",
    "\n",
    "logX = np.log(L)\n",
    "logY = np.log(tau)\n",
    "errLogY = abs(dtau/tau)\n",
    "\n",
    "def chisq(params):\n",
    "    a, b = params\n",
    "    return np.sum( (a + b*logX - logY)**2/errLogY**2 )\n",
    "\n",
    "initial_guess = [1, 1]\n",
    "num_points = L.size\n",
    "dof = num_points - 2\n",
    "chisq_min = minimize(chisq, initial_guess).fun\n",
    "\n",
    "print(\"chisq_min/dof = \", chisq_min/dof)\n",
    "print(\"Q = \", gammaincc(dof/2, chisq_min/2))\n",
    "print(\"The fit is acceptable!\")\n",
    "\n",
    "plt.errorbar(logX, logY, yerr = errLogY, fmt='.')\n",
    "\n",
    "best_fit = minimize(chisq, initial_guess).x\n",
    "x_for_plot = np.arange(4,100,0.01)\n",
    "plt.plot(np.log(x_for_plot), best_fit[0] + best_fit[1]*np.log(x_for_plot))\n",
    "\n",
    "print(\"Best fit: \", best_fit)\n",
    "\n",
    "plt.title(\"Log-log plot\")\n",
    "plt.xlabel(\"log(L)\")\n",
    "plt.ylabel(r\"log$(\\tau)$\")\n",
    "plt.show()"
   ]
  },
  {
   "cell_type": "code",
   "execution_count": 11,
   "metadata": {},
   "outputs": [
    {
     "data": {
      "text/plain": [
       "      fun: 6.76131684527043\n",
       " hess_inv: array([[ 8.45075174e-04, -2.76249337e-04],\n",
       "       [-2.76249337e-04,  9.68234238e-05]])\n",
       "      jac: array([3.81469727e-06, 1.65700912e-05])\n",
       "  message: 'Desired error not necessarily achieved due to precision loss.'\n",
       "     nfev: 327\n",
       "      nit: 4\n",
       "     njev: 79\n",
       "   status: 2\n",
       "  success: False\n",
       "        x: array([-1.96051826,  2.1046865 ])"
      ]
     },
     "execution_count": 11,
     "metadata": {},
     "output_type": "execute_result"
    }
   ],
   "source": [
    "# Note: depending on the initial guess, the success status may return as false\n",
    "minimize(chisq, [1,1])"
   ]
  },
  {
   "cell_type": "code",
   "execution_count": 12,
   "metadata": {},
   "outputs": [
    {
     "data": {
      "text/plain": [
       "      fun: 6.761316845270985\n",
       " hess_inv: array([[ 8.45075160e-04, -2.76249333e-04],\n",
       "       [-2.76249333e-04,  9.68234220e-05]])\n",
       "      jac: array([ 0.00000000e+00, -2.86102295e-06])\n",
       "  message: 'Optimization terminated successfully.'\n",
       "     nfev: 28\n",
       "      nit: 5\n",
       "     njev: 7\n",
       "   status: 0\n",
       "  success: True\n",
       "        x: array([-1.96051826,  2.1046865 ])"
      ]
     },
     "execution_count": 12,
     "metadata": {},
     "output_type": "execute_result"
    }
   ],
   "source": [
    "# however, the result is still correct\n",
    "minimize(chisq, [-2,1])"
   ]
  },
  {
   "cell_type": "code",
   "execution_count": 13,
   "metadata": {},
   "outputs": [
    {
     "name": "stdout",
     "output_type": "stream",
     "text": [
      "log(a) =  -1.9605184613947975 +- 0.041111438231996304 \n",
      "a =       0.14078541019592195 +- 0.0057878906952359074 \n",
      "b =       2.1046865695966965 +- 0.013915705081256028\n"
     ]
    }
   ],
   "source": [
    "# (iii) explicit formulas (the results agree, as expected)\n",
    "\n",
    "S = np.sum(1/errLogY/errLogY)\n",
    "Sx = np.sum(logX/errLogY/errLogY)\n",
    "Sy = np.sum(logY/errLogY/errLogY)\n",
    "t = (logX-Sx/S)/errLogY\n",
    "Stt = np.sum(t*t)\n",
    "\n",
    "b = np.sum(t*logY/errLogY)/Stt\n",
    "a = (Sy-Sx*b)/S\n",
    "error_on_a = np.sqrt((1+Sx*Sx/S/Stt)/S)\n",
    "error_on_b = np.sqrt(1/Stt)\n",
    "\n",
    "print(\"log(a) = \", a, \"+-\", error_on_a,\\\n",
    "      \"\\na =      \", np.exp(a), \"+-\", error_on_a*np.exp(a),\\\n",
    "      \"\\nb =      \", b, \"+-\", error_on_b)"
   ]
  },
  {
   "cell_type": "code",
   "execution_count": 11,
   "metadata": {},
   "outputs": [
    {
     "data": {
      "image/png": "[encoded data removed]",
      "text/plain": [
       "<matplotlib.figure.Figure at 0x7f238b6889b0>"
      ]
     },
     "metadata": {},
     "output_type": "display_data"
    }
   ],
   "source": [
    "# (iv) plotting data on the log-log scale together with linear fit and error band\n",
    "\n",
    "x_for_logplot = np.log(x_for_plot)\n",
    "y_for_logplot = a + b*x_for_logplot\n",
    "upper_error = a + error_on_a + (b + error_on_b)*x_for_logplot\n",
    "lower_error = a - error_on_a + (b - error_on_b)*x_for_logplot\n",
    "\n",
    "# plot of data\n",
    "plt.errorbar(logX, logY, yerr = errLogY, fmt='.', label = \"data\")\n",
    "\n",
    "# plot of fit function\n",
    "plt.plot(x_for_logplot, y_for_logplot, label = \"fit\")\n",
    "\n",
    "# error band\n",
    "plt.fill_between(x_for_logplot, lower_error, upper_error, alpha=0.5, \n",
    "                 facecolor='orange',edgecolor='white',linewidth=0)\n",
    "\n",
    "plt.title(\"Log-log plot\")\n",
    "plt.xlabel(\"log(L)\")\n",
    "plt.ylabel(r\"log$(\\tau)$\")\n",
    "plt.legend(loc = \"upper left\")\n",
    "plt.show()"
   ]
  },
  {
   "cell_type": "code",
   "execution_count": 14,
   "metadata": {},
   "outputs": [
    {
     "name": "stdout",
     "output_type": "stream",
     "text": [
      "Best fit parameters:       [0.14075668 2.10436646]\n",
      "Errors on fit parameters:  [0.00581565 0.01399051]\n"
     ]
    },
    {
     "data": {
      "image/png": "[encoded data removed]",
      "text/plain": [
       "<Figure size 432x288 with 1 Axes>"
      ]
     },
     "metadata": {
      "needs_background": "light"
     },
     "output_type": "display_data"
    }
   ],
   "source": [
    "# (v) and (vi)\n",
    "# same with nonlinear fit routine scipy.optimize.curve_fit\n",
    "# the results agree with the previous fits\n",
    "\n",
    "from scipy.optimize import curve_fit\n",
    "\n",
    "def fitf(x, a, b):\n",
    "    return a*x**(b)\n",
    "\n",
    "popt, pcov = curve_fit(fitf, L, tau, sigma = dtau, absolute_sigma=True)\n",
    "print(\"Best fit parameters:      \", popt)\n",
    "print(\"Errors on fit parameters: \", np.sqrt(np.diag(pcov)))\n",
    "\n",
    "plt.errorbar(L, tau, yerr=dtau, fmt='.', label = \"data\")\n",
    "plt.plot(x_for_plot, np.exp(a)*x_for_plot**b, label = \"linear fit\")\n",
    "plt.plot(x_for_plot, popt[0]*x_for_plot**popt[1], label = \"nonlinear fit\")\n",
    "\n",
    "plt.xlabel(\"L\")\n",
    "plt.ylabel(r\"$\\tau$\")\n",
    "plt.title(\"Regular plot\")\n",
    "plt.legend(loc = \"upper left\")\n",
    "plt.show()"
   ]
  },
  {
   "cell_type": "markdown",
   "metadata": {},
   "source": [
    "## Data and solutions for Homework 8, Exercise 2"
   ]
  },
  {
   "cell_type": "code",
   "execution_count": 15,
   "metadata": {},
   "outputs": [],
   "source": [
    "# this is how the data points were generated, see also lecture notes\n",
    "# if you rerun this code you can get different data sets because the random numbers are always different\n",
    "\n",
    "%matplotlib inline\n",
    "import numpy as np\n",
    "import matplotlib.pyplot as plt\n",
    "from scipy.optimize import minimize\n",
    "from scipy.special import gammaincc\n",
    "from scipy import linalg\n",
    "\n",
    "# original function\n",
    "def f(x):\n",
    "    return 2.15 - 4.1*x + 7.4*x*x - 1.6*x*x*x\n",
    "\n",
    "# generating the data points with errors\n",
    "num_points = 100\n",
    "x = np.sort(np.random.rand(num_points)) + 0.3\n",
    "errY = 0.5*np.random.rand(num_points)\n",
    "y = np.random.normal(f(x),errY)\n",
    "\n",
    "# This was used to save the data\n",
    "# np.savetxt('general_llsq_data.dat', list(zip(x, y, errY)), fmt='%.5g')"
   ]
  },
  {
   "cell_type": "code",
   "execution_count": 17,
   "metadata": {},
   "outputs": [],
   "source": [
    "# solution to the exercise\n",
    "\n",
    "# reading in data\n",
    "data = np.loadtxt('general_llsq_data.dat', delimiter=' ')\n",
    "\n",
    "x = data[:,0]\n",
    "y = data[:,1]\n",
    "errY = data[:,2]\n",
    "\n",
    "num_points = len(x)"
   ]
  },
  {
   "cell_type": "code",
   "execution_count": 18,
   "metadata": {},
   "outputs": [
    {
     "name": "stdout",
     "output_type": "stream",
     "text": [
      "Singular values:                        [2.24462375e+03 1.58965550e+02 1.67367370e+01 1.30336814e+00]\n",
      "Ratio smallest/largest singular value:  0.0005806621877521191\n",
      "Best fit paramters:                     [ 2.16036706 -4.12533059  7.40951607 -1.59941919]\n",
      "Errors on best fit parameters:          [0.08718647 0.4034266  0.5928998  0.26530501]\n"
     ]
    }
   ],
   "source": [
    "# (i) design matrix\n",
    "\n",
    "# building the design matrix with dimensions 100 x 4\n",
    "M = 4\n",
    "designMatrix = np.zeros((num_points,M))\n",
    "\n",
    "# basis functions for general linear least squares\n",
    "def basis(x,m):\n",
    "    return x**m\n",
    "\n",
    "for i in range(num_points):\n",
    "    for m in range(M):\n",
    "        designMatrix[i,m] = basis(x[i],m)/errY[i]\n",
    "\n",
    "# (ii) singular value decomposition\n",
    "\n",
    "# note that we need option \"full_matrices = False\" to get the correct matrix dimensions\n",
    "U, s, Vh = linalg.svd(designMatrix, full_matrices=False)\n",
    "\n",
    "# check if there are too small singular values (there are not)\n",
    "print(\"Singular values:                       \", s)\n",
    "print(\"Ratio smallest/largest singular value: \", min(s)/max(s))\n",
    "\n",
    "# (iii) solving for the best fit parameters\n",
    "vec = y/errY\n",
    "bestparams = np.dot(np.dot(np.transpose(Vh),np.diag(1/s)),np.dot(np.transpose(U),vec))\n",
    "errorsparams = np.sqrt(np.dot(1/s,Vh)**2)\n",
    "print(\"Best fit paramters:                    \", bestparams)\n",
    "print(\"Errors on best fit parameters:         \", errorsparams)"
   ]
  },
  {
   "cell_type": "code",
   "execution_count": 23,
   "metadata": {},
   "outputs": [
    {
     "name": "stdout",
     "output_type": "stream",
     "text": [
      "chisq_min/dof =  1.3413964035119994\n",
      "Q =  0.014390549787594702\n",
      "The fit is acceptable (Q-value is not great though)\n",
      "Best fit:  [ 2.16028776 -4.12501824  7.40912968 -1.59926838]\n"
     ]
    },
    {
     "data": {
      "image/png": "[encoded data removed]",
      "text/plain": [
       "<matplotlib.figure.Figure at 0x7f238b55b208>"
      ]
     },
     "metadata": {},
     "output_type": "display_data"
    }
   ],
   "source": [
    "# (iv) minimizing chi^2 directly\n",
    "\n",
    "def chisq(params):\n",
    "    a, b, c, d = params\n",
    "    return np.sum( (a + b*x + c*x*x + d*x*x*x - y)**2/errY**2 )\n",
    "\n",
    "initial_guess = [0.2, -1, 0, 0]\n",
    "dof = num_points - M\n",
    "chisq_min = minimize(chisq, initial_guess).fun\n",
    "\n",
    "# the fit is good\n",
    "print(\"chisq_min/dof = \", chisq_min/dof)\n",
    "print(\"Q = \", gammaincc(dof/2, chisq_min/2))\n",
    "print(\"The fit is acceptable (Q-value is not great though)\")\n",
    "\n",
    "# (v) plot\n",
    "\n",
    "plt.errorbar(x, y, yerr = errY, fmt='o', label = \"data with errors\")\n",
    "\n",
    "best_fit = minimize(chisq, initial_guess).x\n",
    "\n",
    "x_for_plot = np.linspace(0, 1.4, num_points)\n",
    "\n",
    "plt.plot(x_for_plot, best_fit[0] + best_fit[1]*x_for_plot +\\\n",
    "         best_fit[2]*x_for_plot*x_for_plot + best_fit[3]*x_for_plot*x_for_plot*x_for_plot, label = \"fit\")\n",
    "\n",
    "# The best fit coefficients agree with the previous result\n",
    "print(\"Best fit: \", best_fit)\n",
    "\n",
    "plt.xlim(0.2, 1.4)\n",
    "plt.plot(x_for_plot,f(x_for_plot), label = \"original function\")\n",
    "plt.xlabel(\"x\")\n",
    "plt.ylabel(\"f(x)\")\n",
    "plt.legend(loc = \"upper left\")\n",
    "plt.show()"
   ]
  }
 ],
 "metadata": {
  "kernelspec": {
   "display_name": "Python 3",
   "language": "python",
   "name": "python3"
  },
  "language_info": {
   "codemirror_mode": {
    "name": "ipython",
    "version": 3
   },
   "file_extension": ".py",
   "mimetype": "text/x-python",
   "name": "python",
   "nbconvert_exporter": "python",
   "pygments_lexer": "ipython3",
   "version": "3.8.3"
  }
 },
 "nbformat": 4,
 "nbformat_minor": 2
}
