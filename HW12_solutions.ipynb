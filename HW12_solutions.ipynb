{
 "cells": [
  {
   "cell_type": "markdown",
   "metadata": {},
   "source": [
    "## Homework 12, Exercise 1"
   ]
  },
  {
   "cell_type": "code",
   "execution_count": 5,
   "metadata": {},
   "outputs": [
    {
     "name": "stdout",
     "output_type": "stream",
     "text": [
      "hypersphere volume =  2.612224\n",
      "true value  =  2.550164039877345\n",
      "accuracy:  0.024335673765378516\n"
     ]
    }
   ],
   "source": [
    "# volume of a hypersphere with Monte Carlo\n",
    "import numpy as np\n",
    "import matplotlib.pyplot as plt\n",
    "from scipy.special import factorial\n",
    "\n",
    "counter_inside = 0\n",
    "dim = 10\n",
    "exact_value = np.pi**(dim/2)/factorial(dim/2)\n",
    "volume_box = 2**dim\n",
    "\n",
    "steps = 1000000\n",
    "for i in range(steps):\n",
    "    point = 2*np.random.rand(dim) - 1\n",
    "    \n",
    "    if np.sqrt( np.sum(point**2) ) < 1:\n",
    "        counter_inside += 1\n",
    "\n",
    "volume = counter_inside/steps*volume_box\n",
    "print(\"hypersphere volume = \", volume)\n",
    "print(\"true value  = \", exact_value)   \n",
    "print(\"accuracy: \", abs(volume-exact_value)/exact_value)"
   ]
  },
  {
   "cell_type": "markdown",
   "metadata": {},
   "source": [
    "## Exercise 2"
   ]
  },
  {
   "cell_type": "code",
   "execution_count": 6,
   "metadata": {},
   "outputs": [
    {
     "name": "stdout",
     "output_type": "stream",
     "text": [
      "The integral equals:  1.301284429515961\n",
      "Exact value should be:  1.329340388179137\n",
      "Relative error w.r.t. exact value:  0.021105172845613866\n"
     ]
    }
   ],
   "source": [
    "# (i) importance sampling\n",
    "\n",
    "import numpy as np\n",
    "import numpy.random as rn\n",
    "import scipy.integrate as sint\n",
    "\n",
    "def f(x):\n",
    "    return x**(3/2)*np.exp(-x)\n",
    "\n",
    "nsteps = 10000\n",
    "integral = 0\n",
    "\n",
    "for i in range(nsteps):\n",
    "    \n",
    "    # using exponential distribution for x\n",
    "    x = rn.exponential()\n",
    "    # the exponential part cancels in f(x)/p(x)\n",
    "    integral += x**(3/2)\n",
    "    \n",
    "integral = integral/nsteps\n",
    "exact_value = 3*np.sqrt(np.pi)/4\n",
    "print(\"The integral equals: \", integral)\n",
    "print(\"Exact value should be: \", exact_value)\n",
    "print(\"Relative error w.r.t. exact value: \", abs(integral-exact_value)/exact_value)"
   ]
  },
  {
   "cell_type": "code",
   "execution_count": 7,
   "metadata": {},
   "outputs": [
    {
     "data": {
      "image/png": "[encoded data removed]",
      "text/plain": [
       "<Figure size 432x288 with 1 Axes>"
      ]
     },
     "metadata": {
      "needs_background": "light"
     },
     "output_type": "display_data"
    }
   ],
   "source": [
    "%matplotlib inline\n",
    "import matplotlib.pyplot as plt\n",
    "\n",
    "# plot of the function\n",
    "xplot = np.arange(0,10,0.01)\n",
    "plt.plot(xplot,f(xplot))\n",
    "plt.show()"
   ]
  },
  {
   "cell_type": "code",
   "execution_count": 5,
   "metadata": {},
   "outputs": [
    {
     "name": "stdout",
     "output_type": "stream",
     "text": [
      "The integral equals:  1.3259151085111964\n",
      "Exact value should be:  1.329340388179137\n",
      "Relative error w.r.t. exact value:  0.002576676145853335\n"
     ]
    }
   ],
   "source": [
    "# (ii) there are many other choices for the probability distribution\n",
    "# for example we could take a half-Gaussian\n",
    "# or a different exponential distribution, as in this example\n",
    "# the important point is that we need to generate x-values in the correct domain: [0,inf]\n",
    "\n",
    "nsteps = 10000\n",
    "integral = 0\n",
    "\n",
    "# using exponential distribution with a different parameter\n",
    "def p(x):\n",
    "    return np.exp(-x/2)/2\n",
    "\n",
    "for i in range(nsteps):\n",
    "    \n",
    "    x = rn.exponential(2)\n",
    "    integral += f(x)/p(x)    \n",
    "\n",
    "integral = integral/nsteps\n",
    "print(\"The integral equals: \", integral)\n",
    "print(\"Exact value should be: \", exact_value)\n",
    "print(\"Relative error w.r.t. exact value: \", abs(integral-exact_value)/exact_value)"
   ]
  },
  {
   "cell_type": "code",
   "execution_count": 27,
   "metadata": {},
   "outputs": [
    {
     "name": "stdout",
     "output_type": "stream",
     "text": [
      "The integral equals:  1.3508280949078346\n",
      "Exact value should be:  1.329340388179137\n",
      "Relative error w.r.t. exact value:  0.016164187080880292\n"
     ]
    }
   ],
   "source": [
    "# (iii) Markov chain with exponential probability distribution\n",
    "\n",
    "nsteps = 1000000\n",
    "x = 4\n",
    "integral = 0\n",
    "\n",
    "def p(x):\n",
    "    # this ensures that if we happen to step outside of the range\n",
    "    # the update is automatically rejected\n",
    "    if x<0: \n",
    "        return 0\n",
    "    else: \n",
    "        return np.exp(-x)\n",
    "\n",
    "for i in range(nsteps):\n",
    "    # how we change x is our choice\n",
    "    xchange = rn.rand()-0.5\n",
    "    xnew = x + xchange\n",
    "    \n",
    "    if p(xnew)/p(x) >= 1: \n",
    "        x = xnew\n",
    "    else: \n",
    "        chance = rn.rand()\n",
    "        if chance <= p(xnew)/p(x): \n",
    "            x = xnew\n",
    "    integral += f(x)/p(x)\n",
    "    \n",
    "integral = integral/nsteps\n",
    "print(\"The integral equals: \", integral)\n",
    "print(\"Exact value should be: \", 3*np.sqrt(np.pi)/4)\n",
    "print(\"Relative error w.r.t. exact value: \", abs(integral-exact_value)/exact_value)"
   ]
  },
  {
   "cell_type": "markdown",
   "metadata": {},
   "source": [
    "## Exercise 3\n",
    "\n",
    "(i) First we will run the regular code. The only adjustments that need to be made are for measuring the magnetization only after the system has equilibrated. "
   ]
  },
  {
   "cell_type": "code",
   "execution_count": 9,
   "metadata": {},
   "outputs": [
    {
     "name": "stdout",
     "output_type": "stream",
     "text": [
      "Please input the temperature: 10\n",
      "Average Magnetization:  -0.02671600000000007\n"
     ]
    }
   ],
   "source": [
    "# define the system parameters\n",
    "\n",
    "L = 5      # size of lattice in each direction\n",
    "J = 1       # interaction parameter\n",
    "h = 0       # magnetic field\n",
    "T = float(input(\"Please input the temperature: \"))\n",
    "beta = 1/T  # set k_B = 1\n",
    "\n",
    "# define the state of the system: LxL grid with (initially) a random spin in each cell\n",
    "config = 2*np.random.randint(2, size=(L,L))-1\n",
    "\n",
    "# energy of a given state\n",
    "def energy():  \n",
    "    # elegant way of writing the sum over all nearest neighbors in the grid\n",
    "    interaction = -J*( np.sum(config[0:L-1,:]*config[1:L,:]) +     # contributions of top/bottom neighbors\n",
    "                       np.sum(config[:,0:L-1,]*config[:,1:L]))     # contributions of left/right neighbors\n",
    "    \n",
    "    magnetic = -h*np.sum(config)\n",
    "    return interaction + magnetic\n",
    "\n",
    "current_energy = energy()\n",
    "\n",
    "# magnetization of a given state\n",
    "def magnetization():\n",
    "    return np.sum(config)/L/L\n",
    "\n",
    "# Monte Carlo update using Metropolis algorithm\n",
    "def update():\n",
    "    \n",
    "    global config, current_energy    # we want to be able to change the configuration\n",
    "    \n",
    "    # choose a random cell in the grid\n",
    "    cell = np.random.randint(L, size=2)\n",
    "    i = cell[0]\n",
    "    j = cell[1]\n",
    "    \n",
    "    # calculate the current contribution of this cell to the total energy\n",
    "    energy_cell = 0\n",
    "    # be careful with the boundary\n",
    "    if i != 0:   energy_cell += config[i-1, j]   # left neighbor\n",
    "    if i != L-1: energy_cell += config[i+1, j]   # right neighbor\n",
    "    if j != 0:   energy_cell += config[i, j-1]   # top neighbor\n",
    "    if j != L-1: energy_cell += config[i, j+1]   # bottom neighbor\n",
    "        \n",
    "    # the current contribution to the interaction energy is: -J*energy_cell*config[i,j]\n",
    "    # if we flip the spin, i.e. change config[i,j] to -config[i,j], the new contribution will also change sign\n",
    "    # this means that overall:\n",
    "    \n",
    "    energy_difference = 2*J*energy_cell*config[i,j]\n",
    "    \n",
    "    # additional contribution due to the magnetic field\n",
    "    energy_difference += 2*h*config[i,j]\n",
    "    \n",
    "    # check if update is accepted\n",
    "    accept = False\n",
    "    if energy_difference<0: \n",
    "        accept = True    # always accept updates that decrease the energy\n",
    "    else:\n",
    "        prob = np.exp(-beta*energy_difference)\n",
    "        # standard to calculate event given a probability (see example biasedCoin() in Section 3.1.3)\n",
    "        rand = np.random.rand()\n",
    "        if rand<prob:\n",
    "            accept = True\n",
    "            \n",
    "    # if update is accepted we flip the spin\n",
    "    if accept == True:\n",
    "        config[i, j] = -config[i, j]\n",
    "        current_energy += energy_difference\n",
    "    \n",
    "    # keep track of the acceptance probability\n",
    "    return accept\n",
    "\n",
    "# set up the measurements\n",
    "steps = int(1e6)\n",
    "used = int(1e4)\n",
    "skip = steps-used\n",
    "magnetizationav = 0\n",
    "accept_counter = 0\n",
    "\n",
    "# run the simulation\n",
    "for counter in range(steps):\n",
    "\n",
    "    accept_counter += update()\n",
    "    # measure magnetisation\n",
    "    if counter > skip:\n",
    "        magnetizationav += magnetization()\n",
    "    \n",
    "print(\"Average Magnetization: \", magnetizationav/float(used) )"
   ]
  },
  {
   "cell_type": "markdown",
   "metadata": {},
   "source": [
    "Running the code above for $T=1$ we get an average magnetization of close to $+1$ or $-1$. This is because the system is in the ferromagnetic phase at low temperature. It wants to be in the lowest energy state, which means that all spins are aligned. The direction of alignment is arbitrary, because there is no external magnetic field.\n",
    "\n",
    "Running the code above for $T=10$ we get an average magnetization of close to 0. This is because the system is in the paramagnetic phase at high temperature. It can \"pay the energy cost\" to be in a higher energy state, and the spins are essentially randomly distributed.\n",
    "\n",
    "(ii) Now we will adjust the code for periodic boundary conditions (the results for the magnetization won't change for these temperatures)"
   ]
  },
  {
   "cell_type": "code",
   "execution_count": 11,
   "metadata": {},
   "outputs": [
    {
     "name": "stdout",
     "output_type": "stream",
     "text": [
      "Please input the temperature: 1\n",
      "Average Magnetization:  -0.9984680000000002\n"
     ]
    }
   ],
   "source": [
    "# define the system parameters\n",
    "\n",
    "L = 5       # size of lattice in each direction\n",
    "J = 1       # interaction parameter\n",
    "h = 0       # magnetic field\n",
    "T = float(input(\"Please input the temperature: \"))\n",
    "beta = 1/T  # set k_B = 1\n",
    "\n",
    "# define the state of the system: LxL grid with (initially) a random spin in each cell\n",
    "config = 2*np.random.randint(2, size=(L,L))-1\n",
    "\n",
    "# energy of a given state\n",
    "def energy():  \n",
    "    # this part changes\n",
    "    interaction = -J*( np.sum(config[0:L-1,:]*config[1:L,:]) +     # contributions of top/bottom neighbors\n",
    "                       np.sum(config[:,0:L-1,]*config[:,1:L])+     # contributions of left/right neighbors\n",
    "                      np.sum(config[0,:]*config[-1,:])+np.sum(config[:,0]*config[:,-1]) )\n",
    "    # the last line are contributions from the periodic boundary conditions\n",
    "    \n",
    "    magnetic = -h*np.sum(config)\n",
    "    return interaction + magnetic\n",
    "\n",
    "current_energy = energy()\n",
    "\n",
    "# magnetization of a given state\n",
    "def magnetization():\n",
    "    return np.sum(config)/L/L\n",
    "\n",
    "# Monte Carlo update using Metropolis algorithm\n",
    "def update():\n",
    "    \n",
    "    global config, current_energy    # we want to be able to change the configuration\n",
    "    \n",
    "    # choose a random cell in the grid\n",
    "    cell = np.random.randint(L, size=2)\n",
    "    i = cell[0]\n",
    "    j = cell[1]\n",
    "    \n",
    "    # calculate the current contribution of this cell to the total energy\n",
    "    energy_cell = 0\n",
    "    \n",
    "    # this part needs to be adjusted to account for periodic boundary conditions\n",
    "    if i != 0:   energy_cell += config[i-1, j]   # left neighbor\n",
    "    else: energy_cell += config[i-1 + L, j]\n",
    "        \n",
    "    if i != L-1: energy_cell += config[i+1, j]   # right neighbor\n",
    "    else: energy_cell += config[i+1 - L, j]  \n",
    "        \n",
    "    if j != 0:   energy_cell += config[i, j-1]   # top neighbor\n",
    "    else: energy_cell += config[i, j-1+L]    \n",
    "        \n",
    "    if j != L-1: energy_cell += config[i, j+1]   # bottom neighbor\n",
    "    else: energy_cell += config[i, j+1-L]    \n",
    "        \n",
    "    # the current contribution to the interaction energy is: -J*energy_cell*config[i,j]\n",
    "    # if we flip the spin, i.e. change config[i,j] to -config[i,j], the new contribution will also change sign\n",
    "    # this means that overall:\n",
    "    \n",
    "    energy_difference = 2*J*energy_cell*config[i,j]\n",
    "    \n",
    "    # additional contribution due to the magnetic field\n",
    "    energy_difference += 2*h*config[i,j]\n",
    "    \n",
    "    # check if update is accepted\n",
    "    accept = False\n",
    "    if energy_difference<0: \n",
    "        accept = True    # always accept updates that decrease the energy\n",
    "    else:\n",
    "        prob = np.exp(-beta*energy_difference)\n",
    "        # standard to calculate event given a probability (see example biasedCoin() in Section 3.1.3)\n",
    "        rand = np.random.rand()\n",
    "        if rand<prob:\n",
    "            accept = True\n",
    "            \n",
    "    # if update is accepted we flip the spin\n",
    "    if accept == True:\n",
    "        config[i, j] = -config[i, j]\n",
    "        current_energy += energy_difference\n",
    "    \n",
    "    # keep track of the acceptance probability\n",
    "    return accept\n",
    "\n",
    "# set up the measurements\n",
    "steps = int(1e6)\n",
    "used = int(1e4)\n",
    "magnetizationav = 0\n",
    "accept_counter = 0\n",
    "\n",
    "# run the simulation\n",
    "for counter in range(steps):\n",
    "\n",
    "    accept_counter += update()\n",
    "    # measure magnetisation\n",
    "    if counter > skip:\n",
    "        magnetizationav += magnetization()\n",
    "    \n",
    "print(\"Average Magnetization: \", magnetizationav/float(used) )"
   ]
  }
 ],
 "metadata": {
  "kernelspec": {
   "display_name": "Python 3",
   "language": "python",
   "name": "python3"
  },
  "language_info": {
   "codemirror_mode": {
    "name": "ipython",
    "version": 3
   },
   "file_extension": ".py",
   "mimetype": "text/x-python",
   "name": "python",
   "nbconvert_exporter": "python",
   "pygments_lexer": "ipython3",
   "version": "3.7.5"
  }
 },
 "nbformat": 4,
 "nbformat_minor": 2
}
