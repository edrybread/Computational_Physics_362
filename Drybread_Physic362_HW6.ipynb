{
 "cells": [
  {
   "cell_type": "code",
   "execution_count": 1,
   "metadata": {},
   "outputs": [
    {
     "data": {
      "image/png": "[encoded data removed]",
      "text/plain": [
       "<Figure size 432x288 with 1 Axes>"
      ]
     },
     "metadata": {
      "needs_background": "light"
     },
     "output_type": "display_data"
    }
   ],
   "source": [
    "#Exercise 1:\n",
    "\n",
    "#c)\n",
    "\n",
    "%matplotlib inline\n",
    "import numpy as np\n",
    "import matplotlib.pyplot as plt\n",
    "from math import e\n",
    "\n",
    "def f(x): \n",
    "    return 5 * (e ** -x) + x - 5\n",
    "\n",
    "# generate fine list of numbers for plotting\n",
    "x = np.arange(-0.05, 6, 0.01)\n",
    "\n",
    "# plot the left side of the equation\n",
    "plt.plot(x, 5 * (e ** -x) + x - 5, label=r'$5e^{-x} + x - 5$')\n",
    "\n",
    "\n",
    "\n",
    "# make a nice axis label and legend\n",
    "plt.xlabel(\"x\")\n",
    "plt.legend(loc='upper left', fontsize=16, labelspacing=0.3)\n",
    "\n",
    "plt.hlines(0, -1, 6)\n",
    "\n",
    "\n",
    "# this displays all components of the plot\n",
    "plt.show()\n",
    "\n",
    "#The two roots seem to be 0 and 5. I think the zero root seems is not physical because it would mean that\n",
    "#either h or c (from the numerator of the original fraction that x replaced) are zero and that isn't possible \n",
    "#since they are both constants. Any of the values in the denominator being zero are either trivial or not possible\n",
    "#so the 0 root is the nonphysical one. "
   ]
  },
  {
   "cell_type": "code",
   "execution_count": 2,
   "metadata": {},
   "outputs": [
    {
     "name": "stdout",
     "output_type": "stream",
     "text": [
      "Root = 4.965114231743428\n"
     ]
    }
   ],
   "source": [
    "#d)\n",
    "\n",
    "from scipy import optimize as sp\n",
    "\n",
    "x = (sp.bisect(f, 4, 6))\n",
    "\n",
    "print('Root =', x)\n"
   ]
  },
  {
   "cell_type": "code",
   "execution_count": 3,
   "metadata": {},
   "outputs": [
    {
     "name": "stdout",
     "output_type": "stream",
     "text": [
      "Temperature at the surface of the sun = 5776.45228906562 Kelvin\n"
     ]
    }
   ],
   "source": [
    "#e)\n",
    "\n",
    "#T = b/lambda\n",
    "\n",
    "#lambda = 502nm = 502e-9 meters\n",
    "\n",
    "h = 6.62607015e-34 #Planck's Constant in units of J*s\n",
    "c = 3e8 #speed of light in vacuum in units of m/s\n",
    "k = 1.38064852e-23 #Boltzmann's Constant in units of m^2 * kg/s^2 * K\n",
    "\n",
    "b = (h * c) / (k * x)\n",
    "T = b/502e-9 \n",
    "\n",
    "print('Temperature at the surface of the sun =', T, 'Kelvin')"
   ]
  },
  {
   "cell_type": "code",
   "execution_count": 4,
   "metadata": {},
   "outputs": [
    {
     "name": "stdout",
     "output_type": "stream",
     "text": [
      "Newton's method converged to -1.6000000000000003 and 2.5 after 6 iterations\n",
      "The likely values of V1 and V2 are -1.6000000000000003 and 2.5 respectively\n"
     ]
    }
   ],
   "source": [
    "#Exercise 2:\n",
    "\n",
    "#b)\n",
    "\n",
    "V_plus = 5 #volts\n",
    "R1, R2, R3, R4 = 1, 4, 3, 2 #kilohms\n",
    "I_0 = 3 #nA (nanoAmperes)\n",
    "V_T = 0.05 #volts\n",
    "#E1 = e ** ((V1 - V2) / V_T)\n",
    "#E2 = e ** ((V2 - V1) / V_T)\n",
    "\n",
    "def f1(V1, V2):\n",
    "    return(((V1 + V_plus) / R1) + (V1 / R2) + (I_0 * (e ** ((V1 - V2) / V_T) - 1)))\n",
    "\n",
    "def f2(V2, V1):\n",
    "    return(((V2 + V_plus) / R3) + (V2 / R4) + (I_0 * (e ** ((V2 - V1) / V_T) - 1)))\n",
    "\n",
    "def deriv_f1_V1(V1, V2):\n",
    "    return((1 / R1) + (1 / R2) + I_0 * (e ** ((V1 - V2) / V_T) / V_T))\n",
    "\n",
    "def deriv_f1_V2(V1, V2):\n",
    "    return(-I_0 * (E1 / V_T))\n",
    "\n",
    "def deriv_f2_V2(V1, V2):\n",
    "    return((1 / R3) + (1 / R4) + I_0 * (e ** ((V2 - V1) / V_T) / V_T))\n",
    "\n",
    "def deriv_f2_V1(V1, V2):\n",
    "    return(-I_0 * (E2 / V_T))\n",
    "\n",
    "V1, V2 = 2.5, 2.5\n",
    "compare_V = 5\n",
    "counter = 0\n",
    "accuracy = 1e-10\n",
    "\n",
    "while(abs(V1-compare_V) > accuracy):\n",
    "    counter += 1\n",
    "    compare_V = V1\n",
    "    V1 = V1 - f1(V1, V2)/deriv_f1_V1(V1, V2)\n",
    "    \n",
    "while(abs(V2-compare_V) > accuracy):\n",
    "    counter += 1\n",
    "    compare_V = V2\n",
    "    V2 = V2 - f2(V1, V2)/deriv_f2_V2(V1, V2)\n",
    "\n",
    "print(\"Newton's method converged to\", V1, 'and', V2, 'after', counter, 'iterations')\n",
    "print('The likely values of V1 and V2 are', V1, 'and', V2, 'respectively')"
   ]
  },
  {
   "cell_type": "code",
   "execution_count": 5,
   "metadata": {},
   "outputs": [
    {
     "name": "stdout",
     "output_type": "stream",
     "text": [
      "Voltage across diode = 0.8999999999999995\n"
     ]
    }
   ],
   "source": [
    "#c)\n",
    "#This should be the voltage across the diode (~0.6 volts)\n",
    "print('Voltage across diode =', 5 - abs(V1 - V2))"
   ]
  }
 ],
 "metadata": {
  "kernelspec": {
   "display_name": "Python 3",
   "language": "python",
   "name": "python3"
  },
  "language_info": {
   "codemirror_mode": {
    "name": "ipython",
    "version": 3
   },
   "file_extension": ".py",
   "mimetype": "text/x-python",
   "name": "python",
   "nbconvert_exporter": "python",
   "pygments_lexer": "ipython3",
   "version": "3.8.3"
  }
 },
 "nbformat": 4,
 "nbformat_minor": 4
}
