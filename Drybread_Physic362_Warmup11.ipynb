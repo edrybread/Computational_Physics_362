{
 "cells": [
  {
   "cell_type": "markdown",
   "metadata": {},
   "source": [
    "### Exercise 1: Random Number Generators\n",
    "\n",
    "a) What is a random number?\n",
    "\n",
    "- Uniformly distributed groups of numbers generated in a non-repeating, uncorrelated pattern.\n",
    "\n",
    "b) What is the best random number generator available to date?\n",
    "\n",
    "- Quantum random number generating hardware.\n",
    "\n",
    "c) Please write a short Python code that generates\n",
    "- (i) one random real number, uniformly distributed between 0 and 1\n",
    "- (ii) one random real number, uniformly distributed between 3 and 5\n",
    "- (iii) one random integer, uniformly distributed between 0 and 5"
   ]
  },
  {
   "cell_type": "code",
   "execution_count": 1,
   "metadata": {},
   "outputs": [
    {
     "name": "stdout",
     "output_type": "stream",
     "text": [
      "i = 0.0874335352382567\n",
      "ii = 4.9161671711758315\n",
      "iii = 5\n"
     ]
    }
   ],
   "source": [
    "#c)\n",
    "import numpy as np\n",
    "#(i)\n",
    "i = np.random.rand() \n",
    "print('i =', i)\n",
    "\n",
    "#(ii)\n",
    "ii = np.random.uniform(3, 5)\n",
    "print('ii =', ii)\n",
    "\n",
    "#(iii)\n",
    "iii = np.random.randint(0, 6)\n",
    "print('iii =', iii)"
   ]
  }
 ],
 "metadata": {
  "kernelspec": {
   "display_name": "Python 3",
   "language": "python",
   "name": "python3"
  },
  "language_info": {
   "codemirror_mode": {
    "name": "ipython",
    "version": 3
   },
   "file_extension": ".py",
   "mimetype": "text/x-python",
   "name": "python",
   "nbconvert_exporter": "python",
   "pygments_lexer": "ipython3",
   "version": "3.8.3"
  }
 },
 "nbformat": 4,
 "nbformat_minor": 4
}
