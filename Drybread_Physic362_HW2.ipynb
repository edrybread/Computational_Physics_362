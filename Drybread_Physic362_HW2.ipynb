{
 "cells": [
  {
   "cell_type": "code",
   "execution_count": 28,
   "metadata": {},
   "outputs": [
    {
     "name": "stdout",
     "output_type": "stream",
     "text": [
      "Please enter square well width in meters in scientific notation (e.g. 1e-9): 1e-9\n",
      "Please input quantum number: 2\n",
      "2.416394e-19\n"
     ]
    }
   ],
   "source": [
    "# Exercise 1 (Energy levels of an electron)\n",
    "\n",
    "from math import pi\n",
    "\n",
    "well_width = float(input(\"Please enter square well width in meters in scientific notation (e.g. 1e-9): \"))\n",
    "quantum_number = float(input(\"Please input quantum number: \"))\n",
    "h_bar = 1.056e-34\n",
    "m_e = 9.1094e-31\n",
    "\n",
    "Energy = ((h_bar)**2) * (pi**2) * (quantum_number**2) / (2 * (m_e) * (well_width**2))\n",
    "\n",
    "print(\"{:e}\".format(Energy))"
   ]
  },
  {
   "cell_type": "code",
   "execution_count": 5,
   "metadata": {},
   "outputs": [],
   "source": [
    "#Exercise 2 (Fahrenheit to Celsius conversion)\n",
    "\n",
    "def F_to_C(Temp_input):\n",
    "\n",
    "    Celsius_output = (Temp_input -32) * (5/9) \n",
    "\n",
    "    if Celsius_output <= -273.16:\n",
    "        print(\"Input not valid physical temperature\")\n",
    "        F_to_C()\n",
    "    else:\n",
    "        print(\"{:.2f}\".format(Celsius_output), \"degrees Celsius\")\n",
    "\n"
   ]
  },
  {
   "cell_type": "code",
   "execution_count": 6,
   "metadata": {},
   "outputs": [
    {
     "name": "stdout",
     "output_type": "stream",
     "text": [
      "-40.00 degrees Celsius\n"
     ]
    }
   ],
   "source": [
    "F_to_C(-40)"
   ]
  },
  {
   "cell_type": "code",
   "execution_count": 7,
   "metadata": {},
   "outputs": [
    {
     "name": "stdout",
     "output_type": "stream",
     "text": [
      "-17.78 degrees Celsius\n"
     ]
    }
   ],
   "source": [
    "F_to_C(0)"
   ]
  },
  {
   "cell_type": "code",
   "execution_count": 8,
   "metadata": {},
   "outputs": [
    {
     "name": "stdout",
     "output_type": "stream",
     "text": [
      "23.89 degrees Celsius\n"
     ]
    }
   ],
   "source": [
    "F_to_C(75)"
   ]
  },
  {
   "cell_type": "code",
   "execution_count": 36,
   "metadata": {},
   "outputs": [],
   "source": [
    "#Exercise 3 (Catalan Numbers)\n",
    "\n",
    "def Catalan_less_billion():\n",
    "    n = range(0, 100)\n",
    "    C_1 = 1.0\n",
    "    C_n = 1.0\n",
    "    counter = 1\n",
    "\n",
    "    while counter != n:\n",
    "        print(C_1)\n",
    "        C_1 = (((4 * counter) - 2) / (counter + 1)) * C_n\n",
    "        C_n = C_1\n",
    "        counter += 1\n",
    "        if C_n >= 1e9:\n",
    "            break\n",
    "\n",
    "\n",
    "\n",
    "def Catalan_number():\n",
    "    n = int(input(\"Input max C number please: \"))\n",
    "    C_1 = 1.0\n",
    "    C_n = 1.0\n",
    "    counter = 1\n",
    "\n",
    "\n",
    "    if n == 0:\n",
    "        print(1)\n",
    "\n",
    "    if n < 0:\n",
    "        print(\"Input positive number please\")\n",
    "        Catalan_number()\n",
    "\n",
    "    while counter <= n:\n",
    "        \n",
    "        C_1 = (((4 * counter) - 2) / (counter + 1)) * C_n\n",
    "        C_n = C_1\n",
    "        counter += 1\n",
    "    print(C_1)\n",
    "        "
   ]
  },
  {
   "cell_type": "code",
   "execution_count": 37,
   "metadata": {},
   "outputs": [
    {
     "name": "stdout",
     "output_type": "stream",
     "text": [
      "1.0\n",
      "1.0\n",
      "2.0\n",
      "5.0\n",
      "14.0\n",
      "42.0\n",
      "132.0\n",
      "429.0\n",
      "1430.0\n",
      "4862.0\n",
      "16796.0\n",
      "58786.0\n",
      "208012.0\n",
      "742900.0\n",
      "2674440.0\n",
      "9694845.0\n",
      "35357670.0\n",
      "129644790.0\n",
      "477638700.0\n"
     ]
    }
   ],
   "source": [
    "Catalan_less_billion()"
   ]
  },
  {
   "cell_type": "code",
   "execution_count": 11,
   "metadata": {},
   "outputs": [
    {
     "name": "stdout",
     "output_type": "stream",
     "text": [
      "Input max C number please: 100\n",
      "8.965199470901317e+56\n"
     ]
    }
   ],
   "source": [
    "Catalan_number()"
   ]
  }
 ],
 "metadata": {
  "kernelspec": {
   "display_name": "Python 3",
   "language": "python",
   "name": "python3"
  },
  "language_info": {
   "codemirror_mode": {
    "name": "ipython",
    "version": 3
   },
   "file_extension": ".py",
   "mimetype": "text/x-python",
   "name": "python",
   "nbconvert_exporter": "python",
   "pygments_lexer": "ipython3",
   "version": "3.8.3"
  }
 },
 "nbformat": 4,
 "nbformat_minor": 4
}
