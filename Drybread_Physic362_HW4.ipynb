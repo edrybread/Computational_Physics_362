{
 "cells": [
  {
   "cell_type": "code",
   "execution_count": 2,
   "metadata": {},
   "outputs": [
    {
     "name": "stdout",
     "output_type": "stream",
     "text": [
      "a) Permutation Matrix \n",
      " [[0. 0. 1.]\n",
      " [1. 0. 0.]\n",
      " [0. 1. 0.]] \n",
      " \n",
      "Lower Diagonal Matrix \n",
      " [[1.         0.         0.        ]\n",
      " [0.66666667 1.         0.        ]\n",
      " [0.33333333 0.125      1.        ]] \n",
      " \n",
      "Upper Diagonal Matrix \n",
      " [[ 3.          8.          7.        ]\n",
      " [ 0.         -5.33333333  2.33333333]\n",
      " [ 0.          0.          0.375     ]] \n",
      "\n",
      "b) A solved for b\n",
      " [ 1. -0.  0.]\n"
     ]
    }
   ],
   "source": [
    "#Exercise 2\n",
    "from scipy import linalg as LA\n",
    "import numpy as np\n",
    "\n",
    "#a)\n",
    "A = np.array([[1, 2, 3], [3, 8, 7], [2, 0, 7]])\n",
    "\n",
    "p, L, U = LA.lu(A)\n",
    "\n",
    "print('a)', 'Permutation Matrix \\n', p, '\\n', '\\nLower Diagonal Matrix \\n', L, '\\n', '\\nUpper Diagonal Matrix \\n', U, '\\n')\n",
    "\n",
    "#b) I think U and L are different from the pen and paper version because scipy uses pivots while we did not use pivots\n",
    "#for calculating U and L. \n",
    "\n",
    "\n",
    "#c) \n",
    "b = np.array([1, 3, 2])\n",
    "\n",
    "x = LA.solve(A, b)\n",
    "\n",
    "print('b)', 'A solved for b\\n', x)\n"
   ]
  },
  {
   "cell_type": "code",
   "execution_count": 30,
   "metadata": {},
   "outputs": [
    {
     "name": "stdout",
     "output_type": "stream",
     "text": [
      "Voltages\n",
      " [[3.33333333]\n",
      " [3.        ]\n",
      " [2.        ]\n",
      " [1.66666667]]\n"
     ]
    }
   ],
   "source": [
    "#Exercise 3\n",
    "import numpy as np\n",
    "from scipy import linalg as LA\n",
    "#a)\n",
    "'''\n",
    "4V2 - V4 - V3 - V1 = V+\n",
    "3V1 - V3 - V2 = V+\n",
    "4V3 - V4 - V2 - V1 = V0\n",
    "3V4 - V3 - V2 = V0\n",
    "'''\n",
    "#b)\n",
    "'''\n",
    "           A         v     =   b\n",
    "     [-1 4 -1 -1]   [V1]      [5]\n",
    "     [3 -1 -1 0]    [V2]      [5]\n",
    "     [-1 -1 4 -1] * [V3]      [0]\n",
    "     [0 -1 -1 3]    [V4]      [0]\n",
    "'''\n",
    "A = np.array([[-1, 4, -1, -1], \n",
    "              [3, -1, -1, 0], \n",
    "              [-1, -1, 4, -1], \n",
    "              [0, -1, -1, 3]])\n",
    "\n",
    "b = np.array([5, 5, 0, 0])\n",
    "\n",
    "#c)\n",
    "V = LA.solve(A, b)\n",
    "\n",
    "print('Voltages\\n', np.reshape(V, (4, 1)))\n",
    "\n"
   ]
  }
 ],
 "metadata": {
  "kernelspec": {
   "display_name": "Python 3",
   "language": "python",
   "name": "python3"
  },
  "language_info": {
   "codemirror_mode": {
    "name": "ipython",
    "version": 3
   },
   "file_extension": ".py",
   "mimetype": "text/x-python",
   "name": "python",
   "nbconvert_exporter": "python",
   "pygments_lexer": "ipython3",
   "version": "3.8.3"
  }
 },
 "nbformat": 4,
 "nbformat_minor": 4
}
